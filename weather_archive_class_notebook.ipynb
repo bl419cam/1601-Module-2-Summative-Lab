{
 "cells": [
  {
   "cell_type": "code",
   "execution_count": 1,
   "metadata": {},
   "outputs": [],
   "source": [
    "import json\n",
    "import requests\n",
    "import datetime"
   ]
  },
  {
   "cell_type": "code",
   "execution_count": 2,
   "metadata": {},
   "outputs": [],
   "source": [
    "with open('/Users/BPL/Data_Science_Flatiron/.secret/darksky_api.json') as f:\n",
    "    api_key = json.load(f)['api_key']"
   ]
  },
  {
   "cell_type": "code",
   "execution_count": 3,
   "metadata": {},
   "outputs": [],
   "source": [
    "#api_key"
   ]
  },
  {
   "cell_type": "code",
   "execution_count": 4,
   "metadata": {},
   "outputs": [],
   "source": [
    "url = 'https://api.darksky.net/forecast/'"
   ]
  },
  {
   "cell_type": "code",
   "execution_count": 5,
   "metadata": {},
   "outputs": [],
   "source": [
    "lat = 52.52\n",
    "long = 13.405\n",
    "time = '2012-03-31T12:00:00'"
   ]
  },
  {
   "cell_type": "code",
   "execution_count": 6,
   "metadata": {},
   "outputs": [
    {
     "data": {
      "text/plain": [
       "'https://api.darksky.net/forecast/4752f8e5c2398cf3489a5d10d2c8a615/52.52,13.405,2012-03-31T12:00:00'"
      ]
     },
     "execution_count": 6,
     "metadata": {},
     "output_type": "execute_result"
    }
   ],
   "source": [
    "request_url = url + api_key +'/' + str(lat) + ',' + str(long) + ',' + time\n",
    "request_url"
   ]
  },
  {
   "cell_type": "code",
   "execution_count": 7,
   "metadata": {},
   "outputs": [],
   "source": [
    "response = requests.get(request_url)"
   ]
  },
  {
   "cell_type": "code",
   "execution_count": 8,
   "metadata": {},
   "outputs": [
    {
     "name": "stdout",
     "output_type": "stream",
     "text": [
      "{\"latitude\":52.52,\"longitude\":13.405,\"timezone\":\"Europe/Berlin\",\"currently\":{\"time\":1333188000,\"summary\":\"Drizzle\",\"icon\":\"rain\",\"precipIntensity\":0.0049,\"precipProbability\":0.8,\"precipType\":\"rain\",\"temperature\":44.6,\"apparentTemperature\":36.3,\"dewPoint\":32.42,\"humidity\":0.62,\"windSpeed\":21,\"windGust\":31.09,\"windBearing\":299,\"cloudCover\":0.75,\"uvIndex\":3,\"visibility\":6.216},\"hourly\":{\"summary\":\"Drizzle in the morning and afternoon.\",\"icon\":\"rain\",\"data\":[{\"time\":1333144800,\"summary\":\"Mostly Clou\n"
     ]
    }
   ],
   "source": [
    "print(response.text[:500])"
   ]
  },
  {
   "cell_type": "code",
   "execution_count": 9,
   "metadata": {},
   "outputs": [
    {
     "data": {
      "text/plain": [
       "dict_keys(['latitude', 'longitude', 'timezone', 'currently', 'hourly', 'daily', 'flags', 'offset'])"
      ]
     },
     "execution_count": 9,
     "metadata": {},
     "output_type": "execute_result"
    }
   ],
   "source": [
    "response.json().keys()"
   ]
  },
  {
   "cell_type": "code",
   "execution_count": 10,
   "metadata": {},
   "outputs": [
    {
     "data": {
      "text/plain": [
       "'rain'"
      ]
     },
     "execution_count": 10,
     "metadata": {},
     "output_type": "execute_result"
    }
   ],
   "source": [
    "response.json()['daily']['data'][0]['icon']"
   ]
  },
  {
   "cell_type": "code",
   "execution_count": 11,
   "metadata": {},
   "outputs": [],
   "source": [
    "timezone = response.json()['timezone']"
   ]
  },
  {
   "cell_type": "code",
   "execution_count": 12,
   "metadata": {},
   "outputs": [
    {
     "data": {
      "text/plain": [
       "'Europe/Berlin'"
      ]
     },
     "execution_count": 12,
     "metadata": {},
     "output_type": "execute_result"
    }
   ],
   "source": [
    "timezone"
   ]
  },
  {
   "cell_type": "code",
   "execution_count": 13,
   "metadata": {},
   "outputs": [
    {
     "data": {
      "text/plain": [
       "['Europe', 'Berlin']"
      ]
     },
     "execution_count": 13,
     "metadata": {},
     "output_type": "execute_result"
    }
   ],
   "source": [
    "timezone.split('/')"
   ]
  },
  {
   "cell_type": "code",
   "execution_count": 14,
   "metadata": {},
   "outputs": [],
   "source": [
    "current_time = datetime.datetime.now()"
   ]
  },
  {
   "cell_type": "code",
   "execution_count": 15,
   "metadata": {},
   "outputs": [
    {
     "data": {
      "text/plain": [
       "'2020-01-11'"
      ]
     },
     "execution_count": 15,
     "metadata": {},
     "output_type": "execute_result"
    }
   ],
   "source": [
    "current_date = current_time.strftime('%Y-%m-%d')\n",
    "current_date"
   ]
  },
  {
   "cell_type": "code",
   "execution_count": 16,
   "metadata": {},
   "outputs": [
    {
     "data": {
      "text/plain": [
       "'https://api.darksky.net/forecast/4752f8e5c2398cf3489a5d10d2c8a615/52.52,13.405,2020-01-11T12:00:00'"
      ]
     },
     "execution_count": 16,
     "metadata": {},
     "output_type": "execute_result"
    }
   ],
   "source": [
    "request_url = url + api_key +'/' + str(lat) + ',' + str(long) + ',' + current_date + 'T12:00:00'\n",
    "request_url"
   ]
  },
  {
   "cell_type": "code",
   "execution_count": 17,
   "metadata": {},
   "outputs": [],
   "source": [
    "response = requests.get(request_url)"
   ]
  },
  {
   "cell_type": "code",
   "execution_count": 18,
   "metadata": {},
   "outputs": [
    {
     "data": {
      "text/plain": [
       "'rain'"
      ]
     },
     "execution_count": 18,
     "metadata": {},
     "output_type": "execute_result"
    }
   ],
   "source": [
    "response.json()['daily']['data'][0]['icon']"
   ]
  },
  {
   "cell_type": "code",
   "execution_count": 19,
   "metadata": {},
   "outputs": [],
   "source": [
    "class LocationWeatherForecast():\n",
    "    \n",
    "    def __init__(self, lat, long, api_key):\n",
    "        self.base_url = \"https://api.darksky.net/forecast\"\n",
    "        self.lat = lat\n",
    "        self.long = long\n",
    "        self.api_key = api_key\n",
    "        \n",
    "        current_time = datetime.datetime.now()\n",
    "        current_date = current_time.strftime('%Y-%m-%d')\n",
    "        request_url = url + api_key +'/' + str(lat) + ',' + str(long) + ',' + current_date + 'T12:00:00'\n",
    "        response = requests.get(request_url)\n",
    "        daily_forecast = response.json()['daily']['data'][0]['icon']\n",
    "        \n",
    "        self.timezone = response.json()['timezone']\n",
    "        self.location_name = self.timezone.split('/')[-1]\n",
    "        self.daily_forecast = daily_forecast\n",
    "        \n",
    "    def retrieve_daily_forecast(self, date_str, time_str='12:00:00'):\n",
    "        #retrieve daily forecast from Dark Sky API\n",
    "        time = date_str + 'T' + time_str\n",
    "        request_url = url + self.api_key +'/' + str(self.lat) + ',' + str(self.long) + ',' + time\n",
    "        response = requests.get(request_url)\n",
    "        \n",
    "        weather = response.json()['daily']['data'][0]['icon']\n",
    "        \n",
    "        return weather;"
   ]
  },
  {
   "cell_type": "code",
   "execution_count": 20,
   "metadata": {},
   "outputs": [],
   "source": [
    "berlin_weather = LocationWeatherForecast(lat, long, api_key)"
   ]
  },
  {
   "cell_type": "code",
   "execution_count": 21,
   "metadata": {},
   "outputs": [
    {
     "data": {
      "text/plain": [
       "'Berlin'"
      ]
     },
     "execution_count": 21,
     "metadata": {},
     "output_type": "execute_result"
    }
   ],
   "source": [
    "berlin_weather.location_name"
   ]
  },
  {
   "cell_type": "code",
   "execution_count": 22,
   "metadata": {},
   "outputs": [
    {
     "data": {
      "text/plain": [
       "'Europe/Berlin'"
      ]
     },
     "execution_count": 22,
     "metadata": {},
     "output_type": "execute_result"
    }
   ],
   "source": [
    "berlin_weather.timezone"
   ]
  },
  {
   "cell_type": "code",
   "execution_count": 23,
   "metadata": {},
   "outputs": [
    {
     "data": {
      "text/plain": [
       "'rain'"
      ]
     },
     "execution_count": 23,
     "metadata": {},
     "output_type": "execute_result"
    }
   ],
   "source": [
    "berlin_weather.daily_forecast"
   ]
  },
  {
   "cell_type": "code",
   "execution_count": 24,
   "metadata": {},
   "outputs": [
    {
     "data": {
      "text/plain": [
       "'partly-cloudy-day'"
      ]
     },
     "execution_count": 24,
     "metadata": {},
     "output_type": "execute_result"
    }
   ],
   "source": [
    "berlin_weather.retrieve_daily_forecast('2020-01-15')"
   ]
  },
  {
   "cell_type": "code",
   "execution_count": null,
   "metadata": {},
   "outputs": [],
   "source": []
  }
 ],
 "metadata": {
  "kernelspec": {
   "display_name": "Python [conda env:learn-env] *",
   "language": "python",
   "name": "conda-env-learn-env-py"
  },
  "language_info": {
   "codemirror_mode": {
    "name": "ipython",
    "version": 3
   },
   "file_extension": ".py",
   "mimetype": "text/x-python",
   "name": "python",
   "nbconvert_exporter": "python",
   "pygments_lexer": "ipython3",
   "version": "3.6.10"
  }
 },
 "nbformat": 4,
 "nbformat_minor": 2
}
